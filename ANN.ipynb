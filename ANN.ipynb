{
 "cells": [
  {
   "cell_type": "code",
   "execution_count": 1,
   "metadata": {
    "id": "hXtd8NzsLhlA"
   },
   "outputs": [],
   "source": [
    "import pandas as pd\n",
    "import torch\n",
    "import torch.nn as nn\n",
    "import torch.optim as optim\n",
    "import numpy as np\n",
    "from torch.utils.data import DataLoader, TensorDataset\n",
    "\n",
    "\n",
    "from sklearn.model_selection import train_test_split\n",
    "from sklearn.preprocessing import StandardScaler\n",
    "from sklearn.feature_extraction.text import CountVectorizer\n",
    "from sklearn.feature_extraction.text import CountVectorizer\n",
    "from sklearn.preprocessing import StandardScaler\n",
    "from sklearn.metrics import (\n",
    "    accuracy_score,\n",
    "    precision_score,\n",
    "    recall_score,\n",
    "    f1_score,\n",
    "    confusion_matrix,\n",
    ")"
   ]
  },
  {
   "cell_type": "code",
   "execution_count": 2,
   "metadata": {
    "colab": {
     "base_uri": "https://localhost:8080/",
     "height": 241
    },
    "id": "vtemXF_cLXE6",
    "outputId": "ebc6383a-5673-442a-c91b-a20349494077"
   },
   "outputs": [
    {
     "name": "stdout",
     "output_type": "stream",
     "text": [
      "Shape: (1348, 5)\n",
      "Columns: Index(['id', 'title', 'link', 'content', 'gold_label'], dtype='object')\n"
     ]
    },
    {
     "data": {
      "text/html": [
       "<div>\n",
       "<style scoped>\n",
       "    .dataframe tbody tr th:only-of-type {\n",
       "        vertical-align: middle;\n",
       "    }\n",
       "\n",
       "    .dataframe tbody tr th {\n",
       "        vertical-align: top;\n",
       "    }\n",
       "\n",
       "    .dataframe thead th {\n",
       "        text-align: right;\n",
       "    }\n",
       "</style>\n",
       "<table border=\"1\" class=\"dataframe\">\n",
       "  <thead>\n",
       "    <tr style=\"text-align: right;\">\n",
       "      <th></th>\n",
       "      <th>id</th>\n",
       "      <th>title</th>\n",
       "      <th>link</th>\n",
       "      <th>content</th>\n",
       "      <th>gold_label</th>\n",
       "    </tr>\n",
       "  </thead>\n",
       "  <tbody>\n",
       "    <tr>\n",
       "      <th>0</th>\n",
       "      <td>391</td>\n",
       "      <td>پاکستانی طلبا عالمی نیوکلیئر اولمپیاڈ اعزازات</td>\n",
       "      <td>https://jang.com.pk/news/1378483</td>\n",
       "      <td>پاکستانی طلبا بین الاقوامی نیوکلیئر سائنس اولم...</td>\n",
       "      <td>science-technology</td>\n",
       "    </tr>\n",
       "    <tr>\n",
       "      <th>1</th>\n",
       "      <td>76</td>\n",
       "      <td>ملک آج ڈالر قیمت رہی</td>\n",
       "      <td>https://urdu.geo.tv/latest/387502-</td>\n",
       "      <td>کراچی ملکی تبادلہ منڈیوں ڈالر قیمت اضافہ ہوگیا...</td>\n",
       "      <td>business</td>\n",
       "    </tr>\n",
       "    <tr>\n",
       "      <th>2</th>\n",
       "      <td>280</td>\n",
       "      <td>امریکی سینیٹ اسرائیل اسلحے فروخت روکنے متعلق  ...</td>\n",
       "      <td>https://urdu.geo.tv/latest/387551-</td>\n",
       "      <td>واشنگٹن امریکی سینیٹ اسرائیل غزہ جنگ اسلحے فرو...</td>\n",
       "      <td>international</td>\n",
       "    </tr>\n",
       "    <tr>\n",
       "      <th>3</th>\n",
       "      <td>63</td>\n",
       "      <td>پاکستان سعودی عرب درآمدات کمی ایران انحصار بڑھ</td>\n",
       "      <td>https://urdu.geo.tv/latest/387804-</td>\n",
       "      <td>اسلام آباد رواں مالی سال پاکستان سعودی عرب در...</td>\n",
       "      <td>business</td>\n",
       "    </tr>\n",
       "    <tr>\n",
       "      <th>4</th>\n",
       "      <td>114</td>\n",
       "      <td>غزہ اسرائیل رہائشی بمباری  فلسطینی شہید</td>\n",
       "      <td>https://urdu.samaa.tv/2087325042</td>\n",
       "      <td>عالمی فوجداری عدالت نیتن یاہو وارنٹ گرفتاری جا...</td>\n",
       "      <td>international</td>\n",
       "    </tr>\n",
       "  </tbody>\n",
       "</table>\n",
       "</div>"
      ],
      "text/plain": [
       "    id                                              title  \\\n",
       "0  391      پاکستانی طلبا عالمی نیوکلیئر اولمپیاڈ اعزازات   \n",
       "1   76                              ملک آج ڈالر قیمت رہی   \n",
       "2  280  امریکی سینیٹ اسرائیل اسلحے فروخت روکنے متعلق  ...   \n",
       "3   63    پاکستان سعودی عرب درآمدات کمی ایران انحصار بڑھ   \n",
       "4  114            غزہ اسرائیل رہائشی بمباری  فلسطینی شہید   \n",
       "\n",
       "                                 link  \\\n",
       "0    https://jang.com.pk/news/1378483   \n",
       "1  https://urdu.geo.tv/latest/387502-   \n",
       "2  https://urdu.geo.tv/latest/387551-   \n",
       "3  https://urdu.geo.tv/latest/387804-   \n",
       "4    https://urdu.samaa.tv/2087325042   \n",
       "\n",
       "                                             content          gold_label  \n",
       "0  پاکستانی طلبا بین الاقوامی نیوکلیئر سائنس اولم...  science-technology  \n",
       "1  کراچی ملکی تبادلہ منڈیوں ڈالر قیمت اضافہ ہوگیا...            business  \n",
       "2  واشنگٹن امریکی سینیٹ اسرائیل غزہ جنگ اسلحے فرو...       international  \n",
       "3  اسلام آباد رواں مالی سال پاکستان سعودی عرب در...            business  \n",
       "4  عالمی فوجداری عدالت نیتن یاہو وارنٹ گرفتاری جا...       international  "
      ]
     },
     "execution_count": 2,
     "metadata": {},
     "output_type": "execute_result"
    }
   ],
   "source": [
    "df = pd.read_csv(\"cleaned_combined_articles.csv\")\n",
    "print(f\"Shape: {df.shape}\")\n",
    "print(f\"Columns: {df.columns}\")\n",
    "df.head()"
   ]
  },
  {
   "cell_type": "code",
   "execution_count": 3,
   "metadata": {
    "colab": {
     "base_uri": "https://localhost:8080/"
    },
    "id": "rmeGi7vbLdcL",
    "outputId": "f02ab9ec-6689-4ab2-8f1c-7c8211539ab8"
   },
   "outputs": [
    {
     "name": "stdout",
     "output_type": "stream",
     "text": [
      "['science-technology' 'business' 'international' 'sports' 'entertainment']\n"
     ]
    }
   ],
   "source": [
    "label_vector = df[\"gold_label\"].unique()\n",
    "print(label_vector)"
   ]
  },
  {
   "cell_type": "code",
   "execution_count": 4,
   "metadata": {
    "colab": {
     "base_uri": "https://localhost:8080/"
    },
    "id": "LwkDT296RJK_",
    "outputId": "f5589ace-b97f-472c-edd0-81d383d3a193"
   },
   "outputs": [
    {
     "name": "stdout",
     "output_type": "stream",
     "text": [
      "0    پاکستانی طلبا عالمی نیوکلیئر اولمپیاڈ اعزازاتپ...\n",
      "1    ملک آج ڈالر قیمت رہیکراچی ملکی تبادلہ منڈیوں ...\n",
      "2    امریکی سینیٹ اسرائیل اسلحے فروخت روکنے متعلق  ...\n",
      "3    پاکستان سعودی عرب درآمدات کمی ایران انحصار بڑ...\n",
      "4    غزہ اسرائیل رہائشی بمباری  فلسطینی شہیدعالمی ف...\n",
      "dtype: object\n"
     ]
    }
   ],
   "source": [
    "X = df[['title','content']]\n",
    "X = X['title'] + X['content']\n",
    "print(X.head())"
   ]
  },
  {
   "cell_type": "code",
   "execution_count": 5,
   "metadata": {
    "id": "7T3S8MIxLvEX"
   },
   "outputs": [],
   "source": [
    "def one_hot_encode(labels, label_list):\n",
    "    labels = labels.astype(str)\n",
    "    label_dict = {label: idx for idx, label in enumerate(label_list)}\n",
    "    labels_idx = [label_dict[label] for label in labels]\n",
    "    num_classes = len(label_list)\n",
    "    one_hot = np.zeros((len(labels), num_classes), dtype=int)\n",
    "    for i, label in enumerate(labels_idx):\n",
    "        one_hot[i, label] = 1\n",
    "    return one_hot\n",
    "y = df['gold_label']\n",
    "y = torch.tensor(one_hot_encode(y, label_vector), dtype=torch.float64)"
   ]
  },
  {
   "cell_type": "code",
   "execution_count": 6,
   "metadata": {
    "colab": {
     "base_uri": "https://localhost:8080/"
    },
    "id": "_q8ULckzasfl",
    "outputId": "687ffef7-eba3-4c71-db05-ee13cf3f42e8"
   },
   "outputs": [
    {
     "name": "stdout",
     "output_type": "stream",
     "text": [
      "Vocabulary size: 14865\n",
      "Shape of scaled inputs: (1348, 14865)\n"
     ]
    }
   ],
   "source": [
    "\n",
    "\n",
    "vectorizer = CountVectorizer()\n",
    "bow_encodings = vectorizer.fit_transform(X)\n",
    "print(\"Vocabulary size:\", len(vectorizer.vocabulary_))\n",
    "\n",
    "bow_dense = bow_encodings.toarray()\n",
    "scaler = StandardScaler()\n",
    "scaled_inputs = scaler.fit_transform(bow_dense)\n",
    "print(\"Shape of scaled inputs:\", scaled_inputs.shape)\n"
   ]
  },
  {
   "cell_type": "code",
   "execution_count": 7,
   "metadata": {
    "colab": {
     "base_uri": "https://localhost:8080/"
    },
    "id": "1-Ve7FPHQO_A",
    "outputId": "29e7314b-ebfa-4c9f-eddd-7ba58954afb7"
   },
   "outputs": [
    {
     "name": "stdout",
     "output_type": "stream",
     "text": [
      "torch.Size([1348, 14865])\n",
      "torch.Size([1348, 5])\n"
     ]
    },
    {
     "name": "stderr",
     "output_type": "stream",
     "text": [
      "C:\\Users\\H.T\\AppData\\Local\\Temp\\ipykernel_4140\\1980775569.py:3: UserWarning: To copy construct from a tensor, it is recommended to use sourceTensor.clone().detach() or sourceTensor.clone().detach().requires_grad_(True), rather than torch.tensor(sourceTensor).\n",
      "  y_tensor = torch.tensor(y, dtype=torch.float32)\n"
     ]
    }
   ],
   "source": [
    "X_tensor = torch.tensor(scaled_inputs, dtype=torch.float32)\n",
    "print(X_tensor.shape)\n",
    "y_tensor = torch.tensor(y, dtype=torch.float32)\n",
    "print(y_tensor.shape)"
   ]
  },
  {
   "cell_type": "code",
   "execution_count": 8,
   "metadata": {
    "colab": {
     "base_uri": "https://localhost:8080/"
    },
    "id": "MeReU3CmQi19",
    "outputId": "c0aef544-fa7b-4f6d-9cac-307e9f69a994"
   },
   "outputs": [
    {
     "name": "stdout",
     "output_type": "stream",
     "text": [
      "torch.Size([1078, 14865]) torch.Size([135, 14865]) torch.Size([135, 14865])\n"
     ]
    }
   ],
   "source": [
    "X_train, X_temp, y_train, y_temp = train_test_split(X_tensor, y_tensor, test_size=0.2, random_state=2024)\n",
    "X_val, X_test, y_val, y_test = train_test_split(X_temp, y_temp, test_size=0.5, random_state=2024)\n",
    "\n",
    "print(X_train.shape, X_val.shape, X_test.shape)"
   ]
  },
  {
   "cell_type": "code",
   "execution_count": 9,
   "metadata": {
    "colab": {
     "base_uri": "https://localhost:8080/"
    },
    "id": "UmwmzjyRQk9T",
    "outputId": "0044e6dd-ee3d-4435-dda9-6e78f9798217"
   },
   "outputs": [
    {
     "name": "stdout",
     "output_type": "stream",
     "text": [
      "X_tensor[0]: tensor([-0.0472, -0.1051, -0.0272,  ..., -0.0272, -0.0445, -0.0272])\n",
      "y_tensor[0]: tensor([1., 0., 0., 0., 0.])\n"
     ]
    }
   ],
   "source": [
    "print(f\"X_tensor[0]: {X_tensor[0]}\")\n",
    "print(f\"y_tensor[0]: {y_tensor[0]}\")"
   ]
  },
  {
   "cell_type": "code",
   "execution_count": 10,
   "metadata": {
    "id": "mHO9NDNIQ1iJ"
   },
   "outputs": [],
   "source": [
    "train_dataset = TensorDataset(X_train, y_train)\n",
    "val_dataset = TensorDataset(X_val, y_val)\n",
    "test_dataset = TensorDataset(X_test, y_test)\n",
    "batch_size = 16\n",
    "train_loader = DataLoader(train_dataset, batch_size=batch_size, shuffle=True)\n",
    "val_loader = DataLoader(val_dataset, batch_size=batch_size, shuffle=False)\n",
    "test_loader = DataLoader(test_dataset, batch_size=batch_size, shuffle=False)"
   ]
  },
  {
   "cell_type": "code",
   "execution_count": 11,
   "metadata": {
    "colab": {
     "base_uri": "https://localhost:8080/"
    },
    "id": "ZvlSpdRHQ-rR",
    "outputId": "33281816-442c-4c82-d1e3-752b14a8da9b"
   },
   "outputs": [],
   "source": [
    "\n",
    "\n",
    "# class TextClassifier(nn.Module):\n",
    "#     def __init__(self, input_dim, hidden_dim, output_dim):\n",
    "#         super(TextClassifier, self).__init__()\n",
    "#         self.fc1 = nn.Linear(input_dim, hidden_dim)\n",
    "#         self.fc2 = nn.Linear(hidden_dim, output_dim)\n",
    "#         self.dropout = nn.Dropout(0.7)\n",
    "#         self.relu = nn.ReLU()\n",
    "\n",
    "#     def forward(self, x):\n",
    "#         x = self.fc1(x)\n",
    "#         x = self.relu(x)\n",
    "#         x = self.dropout(x)\n",
    "#         x = self.fc2(x)\n",
    "#         return x\n",
    "\n",
    "# input_dim = X_tensor.shape[1]\n",
    "# hidden_dim = 64\n",
    "# output_dim = y_tensor.shape[1]\n",
    "# model = TextClassifier(input_dim, hidden_dim, output_dim)\n",
    "\n",
    "# loss_fn = nn.CrossEntropyLoss()\n",
    "# optimizer = optim.Adam(model.parameters(), lr=0.00001)\n",
    "\n",
    "# num_epochs = 250\n",
    "\n",
    "# for epoch in range(num_epochs):\n",
    "#     model.train()\n",
    "#     running_loss = 0.0\n",
    "#     for batch in train_loader:\n",
    "#         inputs, labels = batch\n",
    "#         optimizer.zero_grad()\n",
    "#         outputs = model(inputs)\n",
    "#         loss = loss_fn(outputs, labels)\n",
    "#         loss.backward()\n",
    "#         optimizer.step()\n",
    "#         running_loss += loss.item()\n",
    "\n",
    "#     model.eval()\n",
    "#     val_loss = 0.0\n",
    "#     with torch.no_grad():\n",
    "#         for batch in val_loader:\n",
    "#             inputs, labels = batch\n",
    "#             outputs = model(inputs)\n",
    "#             loss = loss_fn(outputs, labels)\n",
    "#             val_loss += loss.item()\n",
    "\n",
    "#     print(f\"Epoch {epoch+1}/{num_epochs}, Training Loss: {running_loss/len(train_loader):.4f}, Validation Loss: {val_loss/len(val_loader):.4f}\")\n",
    "\n",
    "# model.eval()\n",
    "# test_loss = 0.0\n",
    "# correct = 0\n",
    "# total = 0\n",
    "# with torch.no_grad():\n",
    "#     for batch in test_loader:\n",
    "#         inputs, labels = batch\n",
    "#         outputs = model(inputs)\n",
    "#         loss = loss_fn(outputs, labels)\n",
    "#         test_loss += loss.item()\n",
    "#         predicted = torch.sigmoid(outputs) > 0.5\n",
    "#         correct += (predicted == labels).sum().item()\n",
    "#         total += labels.size(0) * labels.size(1)\n",
    "\n",
    "#     accuracy = correct / total * 100\n",
    "#     print(f\"Test Loss: {test_loss/len(test_loader):.4f}, Test Accuracy: {accuracy:.2f}%\")\n"
   ]
  },
  {
   "cell_type": "code",
   "execution_count": 12,
   "metadata": {
    "id": "Bv_VMWHXj6rs"
   },
   "outputs": [],
   "source": [
    "class TextClassifier(nn.Module):\n",
    "    def __init__(self, input_dim, hidden_dim, output_dim):\n",
    "        super(TextClassifier, self).__init__()\n",
    "        self.fc1 = nn.Linear(input_dim, hidden_dim)\n",
    "        self.fc2 = nn.Linear(hidden_dim, output_dim)\n",
    "        self.dropout = nn.Dropout(0.7)\n",
    "        self.relu = nn.ReLU()\n",
    "\n",
    "    def forward(self, x):\n",
    "        x = self.fc1(x)\n",
    "        x = self.relu(x)\n",
    "        x = self.dropout(x)\n",
    "        x = self.fc2(x)\n",
    "        return x"
   ]
  },
  {
   "cell_type": "code",
   "execution_count": 13,
   "metadata": {
    "id": "c9TBjqK5j-Ns"
   },
   "outputs": [],
   "source": [
    "class TextClassificationModel:\n",
    "    def __init__(self, df, label_column, text_columns, batch_size=16, hidden_dim=64, lr=1e-5, num_epochs=250):\n",
    "        self.df = df\n",
    "        self.label_column = label_column\n",
    "        self.text_columns = text_columns\n",
    "        self.batch_size = batch_size\n",
    "        self.hidden_dim = hidden_dim\n",
    "        self.lr = lr\n",
    "        self.num_epochs = num_epochs\n",
    "        self.device = torch.device(\"cuda\" if torch.cuda.is_available() else \"cpu\")\n",
    "        self.label_vector = df[label_column].unique()\n",
    "        self.model = None\n",
    "        self.train_loader = self.val_loader = self.test_loader = None\n",
    "        self.input_dim = None\n",
    "        self.vectorizer = CountVectorizer()\n",
    "        self.output_dim = None\n",
    "        self.loss_fn = nn.CrossEntropyLoss()\n",
    "\n",
    "    def preprocess_data(self):\n",
    "        df = self.df\n",
    "        label_vector = self.label_vector\n",
    "        X = df[self.text_columns[0]] + \" \" + df[self.text_columns[1]]\n",
    "\n",
    "        bow_encodings = self.vectorizer.fit_transform(X)\n",
    "        bow_dense = bow_encodings.toarray()\n",
    "        scaler = StandardScaler()\n",
    "        scaled_inputs = scaler.fit_transform(bow_dense)\n",
    "\n",
    "        def one_hot_encode(labels, label_list):\n",
    "            label_dict = {label: idx for idx, label in enumerate(label_list)}\n",
    "            labels_idx = [label_dict[label] for label in labels.astype(str)]\n",
    "            num_classes = len(label_list)\n",
    "            one_hot = np.zeros((len(labels), num_classes), dtype=int)\n",
    "            for i, label in enumerate(labels_idx):\n",
    "                one_hot[i, label] = 1\n",
    "            return one_hot\n",
    "\n",
    "        y = df[self.label_column]\n",
    "        y_encoded = torch.tensor(one_hot_encode(y, label_vector), dtype=torch.float32)\n",
    "\n",
    "        X_tensor = torch.tensor(scaled_inputs, dtype=torch.float32)\n",
    "        X_train, X_temp, y_train, y_temp = train_test_split(X_tensor, y_encoded, test_size=0.2, random_state=2024)\n",
    "        X_val, X_test, y_val, y_test = train_test_split(X_temp, y_temp, test_size=0.5, random_state=2024)\n",
    "\n",
    "        train_dataset = TensorDataset(X_train, y_train)\n",
    "        val_dataset = TensorDataset(X_val, y_val)\n",
    "        test_dataset = TensorDataset(X_test, y_test)\n",
    "\n",
    "        self.train_loader = DataLoader(train_dataset, batch_size=self.batch_size, shuffle=True)\n",
    "        self.val_loader = DataLoader(val_dataset, batch_size=self.batch_size, shuffle=False)\n",
    "        self.test_loader = DataLoader(test_dataset, batch_size=self.batch_size, shuffle=False)\n",
    "\n",
    "        self.input_dim = X_tensor.shape[1]\n",
    "        self.output_dim = y_encoded.shape[1]\n",
    "\n",
    "    def fit(self):\n",
    "        self.model = TextClassifier(self.input_dim, self.hidden_dim, self.output_dim).to(self.device)\n",
    "        optimizer = torch.optim.Adam(self.model.parameters(), lr=self.lr)\n",
    "        for epoch in range(self.num_epochs):\n",
    "            self.model.train()\n",
    "            running_loss = 0.0\n",
    "            for inputs, labels in self.train_loader:\n",
    "                inputs, labels = inputs.to(self.device), labels.to(self.device)\n",
    "                optimizer.zero_grad()\n",
    "                outputs = self.model(inputs)\n",
    "                loss = self.loss_fn(outputs, labels)\n",
    "                loss.backward()\n",
    "                optimizer.step()\n",
    "                running_loss += loss.item()\n",
    "            val_loss = self._evaluate_loss(self.val_loader)\n",
    "            print(f\"Epoch {epoch+1}/{self.num_epochs}, Training Loss: {running_loss/len(self.train_loader)}, Validation Loss: {val_loss}\")\n",
    "\n",
    "    def _evaluate_loss(self, loader):\n",
    "        self.model.eval()\n",
    "        total_loss = 0.0\n",
    "        with torch.no_grad():\n",
    "            for inputs, labels in loader:\n",
    "                inputs, labels = inputs.to(self.device), labels.to(self.device)\n",
    "                outputs = self.model(inputs)\n",
    "                loss = self.loss_fn(outputs, labels)\n",
    "                total_loss += loss.item()\n",
    "        return total_loss / len(loader)\n",
    "\n",
    "    def evaluate(self):\n",
    "        self.model.eval()\n",
    "        all_preds = []\n",
    "        all_labels = []\n",
    "        with torch.no_grad():\n",
    "            for inputs, labels in self.test_loader:\n",
    "                inputs = inputs.to(self.device)\n",
    "                outputs = self.model(inputs)\n",
    "                predicted = torch.sigmoid(outputs).cpu() > 0.5\n",
    "                all_preds.extend(predicted.numpy())\n",
    "                all_labels.extend(labels.numpy())\n",
    "\n",
    "        y_true = np.argmax(all_labels, axis=1)\n",
    "        y_pred = np.argmax(all_preds, axis=1)\n",
    "\n",
    "        accuracy = accuracy_score(y_true, y_pred)\n",
    "        precision = precision_score(y_true, y_pred, average='macro')\n",
    "        recall = recall_score(y_true, y_pred, average='macro')\n",
    "        f1 = f1_score(y_true, y_pred, average='macro')\n",
    "        cm = confusion_matrix(y_true, y_pred)\n",
    "\n",
    "        print(f\"Accuracy: {accuracy:.4f}, Precision: {precision:.4f}, Recall: {recall:.4f}, F1 Score: {f1:.4f}\")\n",
    "        print(f\"Confusion Matrix:\\n{cm}\")\n",
    "\n",
    "    def predict(self, text):\n",
    "        self.model.eval()\n",
    "        bow_encodings = self.vectorizer.fit_transform([text])\n",
    "        bow_dense = bow_encodings.toarray()\n",
    "        scaler = StandardScaler()\n",
    "        scaled_input = scaler.fit_transform(bow_dense)\n",
    "        input_tensor = torch.tensor(scaled_input, dtype=torch.float32).to(self.device)\n",
    "\n",
    "        with torch.no_grad():\n",
    "            output = self.model(input_tensor)\n",
    "            predicted = torch.sigmoid(output).cpu() > 0.5\n",
    "        return predicted.numpy()"
   ]
  },
  {
   "cell_type": "code",
   "execution_count": 14,
   "metadata": {
    "colab": {
     "base_uri": "https://localhost:8080/"
    },
    "id": "w1Jc_5M7kOHm",
    "outputId": "dcdb5e98-39ed-4b41-aa6a-ecbe65ab7c0a"
   },
   "outputs": [
    {
     "name": "stdout",
     "output_type": "stream",
     "text": [
      "Epoch 1/250, Training Loss: 1.673615681774476, Validation Loss: 1.6564298735724554\n",
      "Epoch 2/250, Training Loss: 1.6287585409248577, Validation Loss: 1.635440958870782\n",
      "Epoch 3/250, Training Loss: 1.579948612872292, Validation Loss: 1.6142146322462294\n",
      "Epoch 4/250, Training Loss: 1.5321616547949173, Validation Loss: 1.5919889873928494\n",
      "Epoch 5/250, Training Loss: 1.4530364134732414, Validation Loss: 1.571008907424079\n",
      "Epoch 6/250, Training Loss: 1.4229250620393192, Validation Loss: 1.5496302843093872\n",
      "Epoch 7/250, Training Loss: 1.3943469384137321, Validation Loss: 1.523538867632548\n",
      "Epoch 8/250, Training Loss: 1.3412714705747717, Validation Loss: 1.4969407320022583\n",
      "Epoch 9/250, Training Loss: 1.2900572436697342, Validation Loss: 1.4701298342810736\n",
      "Epoch 10/250, Training Loss: 1.2509787959211014, Validation Loss: 1.4426380925708346\n",
      "Epoch 11/250, Training Loss: 1.2086423425113453, Validation Loss: 1.4167453580432467\n",
      "Epoch 12/250, Training Loss: 1.1782168500563677, Validation Loss: 1.3934848705927532\n",
      "Epoch 13/250, Training Loss: 1.1471111257286633, Validation Loss: 1.3690595759285822\n",
      "Epoch 14/250, Training Loss: 1.0890606931027245, Validation Loss: 1.3450519641240437\n",
      "Epoch 15/250, Training Loss: 1.0523875127820408, Validation Loss: 1.3204647832446628\n",
      "Epoch 16/250, Training Loss: 1.012961275437299, Validation Loss: 1.2992541127734714\n",
      "Epoch 17/250, Training Loss: 0.9868111961028155, Validation Loss: 1.279769394132826\n",
      "Epoch 18/250, Training Loss: 0.9437246033374, Validation Loss: 1.2606031232410007\n",
      "Epoch 19/250, Training Loss: 0.9041743804426754, Validation Loss: 1.241471038924323\n",
      "Epoch 20/250, Training Loss: 0.8903280075858621, Validation Loss: 1.2223128477732341\n",
      "Epoch 21/250, Training Loss: 0.8736345040447572, Validation Loss: 1.2049450476964314\n",
      "Epoch 22/250, Training Loss: 0.8211597660008598, Validation Loss: 1.1888030701213412\n",
      "Epoch 23/250, Training Loss: 0.8315634070073857, Validation Loss: 1.1746884054607816\n",
      "Epoch 24/250, Training Loss: 0.7664200418135699, Validation Loss: 1.161618987719218\n",
      "Epoch 25/250, Training Loss: 0.760190016206573, Validation Loss: 1.1483420663409762\n",
      "Epoch 26/250, Training Loss: 0.7230763010242406, Validation Loss: 1.1355715990066528\n",
      "Epoch 27/250, Training Loss: 0.7227517887949944, Validation Loss: 1.1228059530258179\n",
      "Epoch 28/250, Training Loss: 0.7014646911445785, Validation Loss: 1.1122563150193956\n",
      "Epoch 29/250, Training Loss: 0.6475480536327642, Validation Loss: 1.1010288728608026\n",
      "Epoch 30/250, Training Loss: 0.6446450308841818, Validation Loss: 1.0903957022560968\n",
      "Epoch 31/250, Training Loss: 0.6391688366146648, Validation Loss: 1.0804627935091655\n",
      "Epoch 32/250, Training Loss: 0.6151417423697079, Validation Loss: 1.070729825231764\n",
      "Epoch 33/250, Training Loss: 0.5942518763682422, Validation Loss: 1.0610045327080622\n",
      "Epoch 34/250, Training Loss: 0.5762665942311287, Validation Loss: 1.0524077084329393\n",
      "Epoch 35/250, Training Loss: 0.5778090349015068, Validation Loss: 1.0441925724347432\n",
      "Epoch 36/250, Training Loss: 0.5522837402189479, Validation Loss: 1.034994211461809\n",
      "Epoch 37/250, Training Loss: 0.5414667230318574, Validation Loss: 1.0271702342563205\n",
      "Epoch 38/250, Training Loss: 0.5183465450125582, Validation Loss: 1.0203440719180636\n",
      "Epoch 39/250, Training Loss: 0.5227852078045115, Validation Loss: 1.0137773553530376\n",
      "Epoch 40/250, Training Loss: 0.502267165657352, Validation Loss: 1.0068364938100178\n",
      "Epoch 41/250, Training Loss: 0.4710565003402093, Validation Loss: 0.9985559781392416\n",
      "Epoch 42/250, Training Loss: 0.4771359698737369, Validation Loss: 0.9918564094437493\n",
      "Epoch 43/250, Training Loss: 0.4662689446088146, Validation Loss: 0.9855198197894626\n",
      "Epoch 44/250, Training Loss: 0.4414689343641786, Validation Loss: 0.9789131946033902\n",
      "Epoch 45/250, Training Loss: 0.42961588019833846, Validation Loss: 0.9724224938286675\n",
      "Epoch 46/250, Training Loss: 0.4336748892331825, Validation Loss: 0.9669300516446432\n",
      "Epoch 47/250, Training Loss: 0.4358247415546109, Validation Loss: 0.9618331723743014\n",
      "Epoch 48/250, Training Loss: 0.41661852554363366, Validation Loss: 0.957606832186381\n",
      "Epoch 49/250, Training Loss: 0.40655021807726693, Validation Loss: 0.9531711141268412\n",
      "Epoch 50/250, Training Loss: 0.398932583630085, Validation Loss: 0.947554330031077\n",
      "Epoch 51/250, Training Loss: 0.38596239379223657, Validation Loss: 0.9422871470451355\n",
      "Epoch 52/250, Training Loss: 0.3632228665930383, Validation Loss: 0.9379264646106296\n",
      "Epoch 53/250, Training Loss: 0.3542233203702113, Validation Loss: 0.9333240919642978\n",
      "Epoch 54/250, Training Loss: 0.3511936936308356, Validation Loss: 0.9292585717307197\n",
      "Epoch 55/250, Training Loss: 0.37273255538414507, Validation Loss: 0.9240598943498399\n",
      "Epoch 56/250, Training Loss: 0.34741853922605515, Validation Loss: 0.9194178316328261\n",
      "Epoch 57/250, Training Loss: 0.31514255329966545, Validation Loss: 0.9155113829506768\n",
      "Epoch 58/250, Training Loss: 0.3417913262896678, Validation Loss: 0.9113703701231215\n",
      "Epoch 59/250, Training Loss: 0.3158981626962914, Validation Loss: 0.9072838359408908\n",
      "Epoch 60/250, Training Loss: 0.3351851944975993, Validation Loss: 0.9040065540207757\n",
      "Epoch 61/250, Training Loss: 0.3309870067545596, Validation Loss: 0.9006154007381864\n",
      "Epoch 62/250, Training Loss: 0.31192585825920105, Validation Loss: 0.8964814212587144\n",
      "Epoch 63/250, Training Loss: 0.3066137143794228, Validation Loss: 0.8926966256565518\n",
      "Epoch 64/250, Training Loss: 0.312866901869283, Validation Loss: 0.8882714841100905\n",
      "Epoch 65/250, Training Loss: 0.29393642943571596, Validation Loss: 0.8847071197297838\n",
      "Epoch 66/250, Training Loss: 0.2767032080275171, Validation Loss: 0.8816318578190274\n",
      "Epoch 67/250, Training Loss: 0.29593894641627283, Validation Loss: 0.8783889942699008\n",
      "Epoch 68/250, Training Loss: 0.2947670216946041, Validation Loss: 0.874862531820933\n",
      "Epoch 69/250, Training Loss: 0.2860669708427261, Validation Loss: 0.8709462152587043\n",
      "Epoch 70/250, Training Loss: 0.256420174613595, Validation Loss: 0.8670083483060201\n",
      "Epoch 71/250, Training Loss: 0.2718293543028481, Validation Loss: 0.8638453152444627\n",
      "Epoch 72/250, Training Loss: 0.2586449688190923, Validation Loss: 0.8608026173379686\n",
      "Epoch 73/250, Training Loss: 0.2594360476907562, Validation Loss: 0.857451339562734\n",
      "Epoch 74/250, Training Loss: 0.27063071245656295, Validation Loss: 0.8536873327361213\n",
      "Epoch 75/250, Training Loss: 0.24660304659867988, Validation Loss: 0.8515353666411506\n",
      "Epoch 76/250, Training Loss: 0.23930147618931882, Validation Loss: 0.8483404252264235\n",
      "Epoch 77/250, Training Loss: 0.23856651618638458, Validation Loss: 0.8469848963949416\n",
      "Epoch 78/250, Training Loss: 0.2430984709850129, Validation Loss: 0.8450857599576315\n",
      "Epoch 79/250, Training Loss: 0.23805398866534233, Validation Loss: 0.8424941036436293\n",
      "Epoch 80/250, Training Loss: 0.24063310465391943, Validation Loss: 0.8398359682824876\n",
      "Epoch 81/250, Training Loss: 0.2401218006716055, Validation Loss: 0.8366401195526123\n",
      "Epoch 82/250, Training Loss: 0.22483512025107355, Validation Loss: 0.8339579833878411\n",
      "Epoch 83/250, Training Loss: 0.2289836872369051, Validation Loss: 0.8304309844970703\n",
      "Epoch 84/250, Training Loss: 0.21059189769713318, Validation Loss: 0.8282053305043114\n",
      "Epoch 85/250, Training Loss: 0.20377468547838576, Validation Loss: 0.8264263073603312\n",
      "Epoch 86/250, Training Loss: 0.20992351816419294, Validation Loss: 0.8233830134073893\n",
      "Epoch 87/250, Training Loss: 0.19489905780509992, Validation Loss: 0.8210274146662818\n",
      "Epoch 88/250, Training Loss: 0.2067923449418124, Validation Loss: 0.8193047874503665\n",
      "Epoch 89/250, Training Loss: 0.21925052715574994, Validation Loss: 0.8164782192971971\n",
      "Epoch 90/250, Training Loss: 0.2028716421302627, Validation Loss: 0.814607216252221\n",
      "Epoch 91/250, Training Loss: 0.1918348204344511, Validation Loss: 0.8124566872914633\n",
      "Epoch 92/250, Training Loss: 0.18530994138735182, Validation Loss: 0.8106907274987962\n",
      "Epoch 93/250, Training Loss: 0.19286295037497492, Validation Loss: 0.8085452682442136\n",
      "Epoch 94/250, Training Loss: 0.18829628562226014, Validation Loss: 0.8063478966554006\n",
      "Epoch 95/250, Training Loss: 0.17779768356943831, Validation Loss: 0.8045760194460551\n",
      "Epoch 96/250, Training Loss: 0.1839707692646805, Validation Loss: 0.8035374879837036\n",
      "Epoch 97/250, Training Loss: 0.1907268911600113, Validation Loss: 0.802633696132236\n",
      "Epoch 98/250, Training Loss: 0.18552369629854665, Validation Loss: 0.8013846708668603\n",
      "Epoch 99/250, Training Loss: 0.19326809182872667, Validation Loss: 0.8001043001810709\n",
      "Epoch 100/250, Training Loss: 0.1833508326945936, Validation Loss: 0.7986256877581278\n",
      "Epoch 101/250, Training Loss: 0.18948834520929, Validation Loss: 0.7968987160258822\n",
      "Epoch 102/250, Training Loss: 0.16923037467195706, Validation Loss: 0.7958906955189176\n",
      "Epoch 103/250, Training Loss: 0.16682941658312783, Validation Loss: 0.7951602273517184\n",
      "Epoch 104/250, Training Loss: 0.1786663326818277, Validation Loss: 0.7928334209654067\n",
      "Epoch 105/250, Training Loss: 0.17344744481584606, Validation Loss: 0.7899769842624664\n",
      "Epoch 106/250, Training Loss: 0.1737450645031298, Validation Loss: 0.7870261238680946\n",
      "Epoch 107/250, Training Loss: 0.16020394741174052, Validation Loss: 0.7856857246822782\n",
      "Epoch 108/250, Training Loss: 0.14804789056891904, Validation Loss: 0.7835823628637526\n",
      "Epoch 109/250, Training Loss: 0.17861010643708355, Validation Loss: 0.78124314877722\n",
      "Epoch 110/250, Training Loss: 0.1602649410967441, Validation Loss: 0.7803798384136624\n",
      "Epoch 111/250, Training Loss: 0.16275525564218268, Validation Loss: 0.7791661322116852\n",
      "Epoch 112/250, Training Loss: 0.17150167356628707, Validation Loss: 0.7778687046633826\n",
      "Epoch 113/250, Training Loss: 0.15362689266090884, Validation Loss: 0.7768027517530653\n",
      "Epoch 114/250, Training Loss: 0.16658408582374892, Validation Loss: 0.7748065491517385\n",
      "Epoch 115/250, Training Loss: 0.16195949512150357, Validation Loss: 0.7730685604943169\n",
      "Epoch 116/250, Training Loss: 0.15462072807199814, Validation Loss: 0.7715517977873484\n",
      "Epoch 117/250, Training Loss: 0.15247109187219074, Validation Loss: 0.7702921165360345\n",
      "Epoch 118/250, Training Loss: 0.14983514592270641, Validation Loss: 0.7688771618737115\n",
      "Epoch 119/250, Training Loss: 0.15067179172354586, Validation Loss: 0.7683916787306467\n",
      "Epoch 120/250, Training Loss: 0.14191246568225324, Validation Loss: 0.7672202852037218\n",
      "Epoch 121/250, Training Loss: 0.15006829450345216, Validation Loss: 0.7643864552179972\n",
      "Epoch 122/250, Training Loss: 0.14424069691449404, Validation Loss: 0.7626720898681216\n",
      "Epoch 123/250, Training Loss: 0.15730369984007933, Validation Loss: 0.7607010867860582\n",
      "Epoch 124/250, Training Loss: 0.15993320829618504, Validation Loss: 0.7589411536852518\n",
      "Epoch 125/250, Training Loss: 0.1366752648506971, Validation Loss: 0.7577295634481642\n",
      "Epoch 126/250, Training Loss: 0.13470880344838781, Validation Loss: 0.756025469965405\n",
      "Epoch 127/250, Training Loss: 0.1373003844774383, Validation Loss: 0.7557485865222083\n",
      "Epoch 128/250, Training Loss: 0.1393750756431152, Validation Loss: 0.7541129721535577\n",
      "Epoch 129/250, Training Loss: 0.14667111950214295, Validation Loss: 0.7531028058793809\n",
      "Epoch 130/250, Training Loss: 0.12908704949351138, Validation Loss: 0.7527570426464081\n",
      "Epoch 131/250, Training Loss: 0.1249800242812318, Validation Loss: 0.7519466314050887\n",
      "Epoch 132/250, Training Loss: 0.14899052520666053, Validation Loss: 0.7502054638332791\n",
      "Epoch 133/250, Training Loss: 0.12870924136437037, Validation Loss: 0.7494449946615431\n",
      "Epoch 134/250, Training Loss: 0.12955896079759388, Validation Loss: 0.7488234572940402\n",
      "Epoch 135/250, Training Loss: 0.12167003405663897, Validation Loss: 0.7466160323884752\n",
      "Epoch 136/250, Training Loss: 0.1253677402924308, Validation Loss: 0.7464676168229845\n",
      "Epoch 137/250, Training Loss: 0.13551346181124888, Validation Loss: 0.7457347710927328\n",
      "Epoch 138/250, Training Loss: 0.11882177663638312, Validation Loss: 0.7449310852421654\n",
      "Epoch 139/250, Training Loss: 0.12735885603572517, Validation Loss: 0.7444083657529619\n",
      "Epoch 140/250, Training Loss: 0.1100483965676497, Validation Loss: 0.7433979875511594\n",
      "Epoch 141/250, Training Loss: 0.11949459099046447, Validation Loss: 0.7427547375361124\n",
      "Epoch 142/250, Training Loss: 0.11891106843455311, Validation Loss: 0.741526550716824\n",
      "Epoch 143/250, Training Loss: 0.11108367977773442, Validation Loss: 0.7417435480488671\n",
      "Epoch 144/250, Training Loss: 0.12463965080678463, Validation Loss: 0.740688251124488\n",
      "Epoch 145/250, Training Loss: 0.13182784412877963, Validation Loss: 0.7406148976749845\n",
      "Epoch 146/250, Training Loss: 0.12323876511415138, Validation Loss: 0.7390753361913893\n",
      "Epoch 147/250, Training Loss: 0.11988309450337992, Validation Loss: 0.737936043077045\n",
      "Epoch 148/250, Training Loss: 0.10800767569419216, Validation Loss: 0.7365021076467302\n",
      "Epoch 149/250, Training Loss: 0.1101271437261911, Validation Loss: 0.7375266088379754\n",
      "Epoch 150/250, Training Loss: 0.1158624782525722, Validation Loss: 0.736520959271325\n",
      "Epoch 151/250, Training Loss: 0.1111962322063525, Validation Loss: 0.7360720071527693\n",
      "Epoch 152/250, Training Loss: 0.10990686105180751, Validation Loss: 0.7356330884827508\n",
      "Epoch 153/250, Training Loss: 0.12275319121887579, Validation Loss: 0.7336535288227929\n",
      "Epoch 154/250, Training Loss: 0.12879428955014138, Validation Loss: 0.7314637700716654\n",
      "Epoch 155/250, Training Loss: 0.11996507070794263, Validation Loss: 0.731378306945165\n",
      "Epoch 156/250, Training Loss: 0.10510868542170261, Validation Loss: 0.7295046382480197\n",
      "Epoch 157/250, Training Loss: 0.11617994445430882, Validation Loss: 0.7291083998150296\n",
      "Epoch 158/250, Training Loss: 0.12136477007366278, Validation Loss: 0.7279275721973844\n",
      "Epoch 159/250, Training Loss: 0.11174897057935596, Validation Loss: 0.7262729638152652\n",
      "Epoch 160/250, Training Loss: 0.11001685879412382, Validation Loss: 0.7252106103632185\n",
      "Epoch 161/250, Training Loss: 0.11399695238865473, Validation Loss: 0.7246019310421414\n",
      "Epoch 162/250, Training Loss: 0.11562615416615325, Validation Loss: 0.7228953275415633\n",
      "Epoch 163/250, Training Loss: 0.11988874848055489, Validation Loss: 0.722342140144772\n",
      "Epoch 164/250, Training Loss: 0.10336886147749336, Validation Loss: 0.7223380406697592\n",
      "Epoch 165/250, Training Loss: 0.1126079657662879, Validation Loss: 0.7211989826626248\n",
      "Epoch 166/250, Training Loss: 0.10249539607492111, Validation Loss: 0.7188596659236484\n",
      "Epoch 167/250, Training Loss: 0.11943629503195338, Validation Loss: 0.7189496391349368\n",
      "Epoch 168/250, Training Loss: 0.10488468246287941, Validation Loss: 0.7199640704525841\n",
      "Epoch 169/250, Training Loss: 0.12150761241997209, Validation Loss: 0.7192972997824351\n",
      "Epoch 170/250, Training Loss: 0.0955613913897918, Validation Loss: 0.7180622650517358\n",
      "Epoch 171/250, Training Loss: 0.10934808855766759, Validation Loss: 0.7174857060114542\n",
      "Epoch 172/250, Training Loss: 0.10402207023135442, Validation Loss: 0.7151988546053568\n",
      "Epoch 173/250, Training Loss: 0.10685522777631003, Validation Loss: 0.7135217686494192\n",
      "Epoch 174/250, Training Loss: 0.10578267188633189, Validation Loss: 0.7135363784101274\n",
      "Epoch 175/250, Training Loss: 0.09694452153737931, Validation Loss: 0.7123115658760071\n",
      "Epoch 176/250, Training Loss: 0.09493295430644032, Validation Loss: 0.7121774355570475\n",
      "Epoch 177/250, Training Loss: 0.10485117726356667, Validation Loss: 0.7109105024072859\n",
      "Epoch 178/250, Training Loss: 0.11257898128207992, Validation Loss: 0.7097645964887407\n",
      "Epoch 179/250, Training Loss: 0.0974189110155053, Validation Loss: 0.7072791854540507\n",
      "Epoch 180/250, Training Loss: 0.10019191688693621, Validation Loss: 0.7057800458537208\n",
      "Epoch 181/250, Training Loss: 0.10756756133838173, Validation Loss: 0.7038438949320052\n",
      "Epoch 182/250, Training Loss: 0.10325832611552495, Validation Loss: 0.7045421335432265\n",
      "Epoch 183/250, Training Loss: 0.09942018585827421, Validation Loss: 0.7039175232251486\n",
      "Epoch 184/250, Training Loss: 0.09218663315507858, Validation Loss: 0.7017854087882571\n",
      "Epoch 185/250, Training Loss: 0.094580099959036, Validation Loss: 0.7019402715894911\n",
      "Epoch 186/250, Training Loss: 0.10261672306531931, Validation Loss: 0.7013542585902743\n",
      "Epoch 187/250, Training Loss: 0.10588495170368868, Validation Loss: 0.7013240092330508\n",
      "Epoch 188/250, Training Loss: 0.09216649831710931, Validation Loss: 0.7008438110351562\n",
      "Epoch 189/250, Training Loss: 0.10128109146128683, Validation Loss: 0.7007973591486613\n",
      "Epoch 190/250, Training Loss: 0.09307205611720051, Validation Loss: 0.699751079082489\n",
      "Epoch 191/250, Training Loss: 0.10187030250124414, Validation Loss: 0.6991290052731832\n",
      "Epoch 192/250, Training Loss: 0.09170491774292554, Validation Loss: 0.69873046875\n",
      "Epoch 193/250, Training Loss: 0.08674018317833543, Validation Loss: 0.697998540269004\n",
      "Epoch 194/250, Training Loss: 0.10096645095002126, Validation Loss: 0.6972386042277018\n",
      "Epoch 195/250, Training Loss: 0.09368973823866862, Validation Loss: 0.6969747808244493\n",
      "Epoch 196/250, Training Loss: 0.10517335933742716, Validation Loss: 0.6956393387582567\n",
      "Epoch 197/250, Training Loss: 0.0867596343433594, Validation Loss: 0.6946534050835503\n",
      "Epoch 198/250, Training Loss: 0.10301946634632152, Validation Loss: 0.6944220463434855\n",
      "Epoch 199/250, Training Loss: 0.09460232468486271, Validation Loss: 0.6925929851002164\n",
      "Epoch 200/250, Training Loss: 0.08585521174074315, Validation Loss: 0.6921997633245256\n",
      "Epoch 201/250, Training Loss: 0.10013083165155395, Validation Loss: 0.6917968723509047\n",
      "Epoch 202/250, Training Loss: 0.08902071804657359, Validation Loss: 0.6919271118111081\n",
      "Epoch 203/250, Training Loss: 0.08688870259314119, Validation Loss: 0.6917336583137512\n",
      "Epoch 204/250, Training Loss: 0.08938182594583315, Validation Loss: 0.6918401221434275\n",
      "Epoch 205/250, Training Loss: 0.08653369833550908, Validation Loss: 0.6917478508419461\n",
      "Epoch 206/250, Training Loss: 0.08619678732665147, Validation Loss: 0.6911781330903372\n",
      "Epoch 207/250, Training Loss: 0.07624045552631073, Validation Loss: 0.6908270981576707\n",
      "Epoch 208/250, Training Loss: 0.08486938345081665, Validation Loss: 0.6896666487058004\n",
      "Epoch 209/250, Training Loss: 0.08803669218083515, Validation Loss: 0.6882490515708923\n",
      "Epoch 210/250, Training Loss: 0.08175254941863172, Validation Loss: 0.6876339481936561\n",
      "Epoch 211/250, Training Loss: 0.08688379135256742, Validation Loss: 0.6868792838520474\n",
      "Epoch 212/250, Training Loss: 0.08912087609197068, Validation Loss: 0.685886048608356\n",
      "Epoch 213/250, Training Loss: 0.09671327488168198, Validation Loss: 0.6855492028925154\n",
      "Epoch 214/250, Training Loss: 0.0800328554092523, Validation Loss: 0.6855924526850382\n",
      "Epoch 215/250, Training Loss: 0.07957617401296053, Validation Loss: 0.683885782957077\n",
      "Epoch 216/250, Training Loss: 0.09261274722623913, Validation Loss: 0.6832158068815867\n",
      "Epoch 217/250, Training Loss: 0.08696842370965682, Validation Loss: 0.6835081908437941\n",
      "Epoch 218/250, Training Loss: 0.08521033587235519, Validation Loss: 0.6831942233774397\n",
      "Epoch 219/250, Training Loss: 0.08189223227365051, Validation Loss: 0.6813644005192651\n",
      "Epoch 220/250, Training Loss: 0.08160192748148214, Validation Loss: 0.6812324391471015\n",
      "Epoch 221/250, Training Loss: 0.07947092648486004, Validation Loss: 0.6812796228461795\n",
      "Epoch 222/250, Training Loss: 0.08485644655850004, Validation Loss: 0.6803399258189731\n",
      "Epoch 223/250, Training Loss: 0.09022539677372311, Validation Loss: 0.6794521543714735\n",
      "Epoch 224/250, Training Loss: 0.06721363067695432, Validation Loss: 0.6786317891544766\n",
      "Epoch 225/250, Training Loss: 0.07181962615782943, Validation Loss: 0.6778891384601593\n",
      "Epoch 226/250, Training Loss: 0.07903204174534254, Validation Loss: 0.6775371862782372\n",
      "Epoch 227/250, Training Loss: 0.08507190194145284, Validation Loss: 0.6772316330009036\n",
      "Epoch 228/250, Training Loss: 0.07479460679871194, Validation Loss: 0.676736636294259\n",
      "Epoch 229/250, Training Loss: 0.08138403241686962, Validation Loss: 0.675628145535787\n",
      "Epoch 230/250, Training Loss: 0.0921713673913687, Validation Loss: 0.6728810568650564\n",
      "Epoch 231/250, Training Loss: 0.07460018995163195, Validation Loss: 0.6728575627009074\n",
      "Epoch 232/250, Training Loss: 0.08863456677029129, Validation Loss: 0.673274834950765\n",
      "Epoch 233/250, Training Loss: 0.07039410683586646, Validation Loss: 0.6733051472240024\n",
      "Epoch 234/250, Training Loss: 0.08136971053831718, Validation Loss: 0.6735861433876885\n",
      "Epoch 235/250, Training Loss: 0.08206559822428972, Validation Loss: 0.6731411384211646\n",
      "Epoch 236/250, Training Loss: 0.08291567238184679, Validation Loss: 0.6735002729627821\n",
      "Epoch 237/250, Training Loss: 0.08963858207297402, Validation Loss: 0.6739842494328817\n",
      "Epoch 238/250, Training Loss: 0.08447465793270727, Validation Loss: 0.6733353071742587\n",
      "Epoch 239/250, Training Loss: 0.07574557242846555, Validation Loss: 0.6726379460758634\n",
      "Epoch 240/250, Training Loss: 0.07720335590762689, Validation Loss: 0.6733342508474985\n",
      "Epoch 241/250, Training Loss: 0.08206704907078187, Validation Loss: 0.6726990540822347\n",
      "Epoch 242/250, Training Loss: 0.07098116168944056, Validation Loss: 0.6718022459083133\n",
      "Epoch 243/250, Training Loss: 0.09303575054304127, Validation Loss: 0.6719483600722419\n",
      "Epoch 244/250, Training Loss: 0.08139687387601417, Validation Loss: 0.6721896231174469\n",
      "Epoch 245/250, Training Loss: 0.07219078095273718, Validation Loss: 0.6721309920152029\n",
      "Epoch 246/250, Training Loss: 0.07760738262988846, Validation Loss: 0.6718168523576524\n",
      "Epoch 247/250, Training Loss: 0.07617904456770595, Validation Loss: 0.6716606914997101\n",
      "Epoch 248/250, Training Loss: 0.07507087073891479, Validation Loss: 0.6714793609248267\n",
      "Epoch 249/250, Training Loss: 0.07596205594018102, Validation Loss: 0.6702444851398468\n",
      "Epoch 250/250, Training Loss: 0.0805267887772061, Validation Loss: 0.6694821351104312\n"
     ]
    }
   ],
   "source": [
    "model = TextClassificationModel(df, label_column=\"gold_label\", text_columns=[\"title\", \"content\"])\n",
    "model.preprocess_data()\n",
    "model.fit()"
   ]
  },
  {
   "cell_type": "code",
   "execution_count": 15,
   "metadata": {
    "colab": {
     "base_uri": "https://localhost:8080/"
    },
    "id": "uMOajSxckmMc",
    "outputId": "376aa84d-a094-4b9f-d63b-ecf222a545cc"
   },
   "outputs": [
    {
     "name": "stdout",
     "output_type": "stream",
     "text": [
      "Accuracy: 0.8667, Precision: 0.8874, Recall: 0.8663, F1 Score: 0.8672\n",
      "Confusion Matrix:\n",
      "[[27  0  1  0  0]\n",
      " [ 1 21  0  0  0]\n",
      " [ 5  0 16  0  1]\n",
      " [ 2  0  0 29  0]\n",
      " [ 5  2  1  0 24]]\n"
     ]
    }
   ],
   "source": [
    "model.evaluate()"
   ]
  }
 ],
 "metadata": {
  "colab": {
   "provenance": []
  },
  "kernelspec": {
   "display_name": "Python 3",
   "name": "python3"
  },
  "language_info": {
   "codemirror_mode": {
    "name": "ipython",
    "version": 3
   },
   "file_extension": ".py",
   "mimetype": "text/x-python",
   "name": "python",
   "nbconvert_exporter": "python",
   "pygments_lexer": "ipython3",
   "version": "3.12.6"
  }
 },
 "nbformat": 4,
 "nbformat_minor": 0
}
